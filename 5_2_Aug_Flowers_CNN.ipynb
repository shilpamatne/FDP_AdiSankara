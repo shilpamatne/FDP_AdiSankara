{
  "nbformat": 4,
  "nbformat_minor": 0,
  "metadata": {
    "accelerator": "GPU",
    "colab": {
      "provenance": []
    },
    "kernelspec": {
      "display_name": "Python 3",
      "language": "python",
      "name": "python3"
    },
    "language_info": {
      "codemirror_mode": {
        "name": "ipython",
        "version": 3
      },
      "file_extension": ".py",
      "mimetype": "text/x-python",
      "name": "python",
      "nbconvert_exporter": "python",
      "pygments_lexer": "ipython3",
      "version": "3.7.4"
    },
    "toc": {
      "base_numbering": 1,
      "nav_menu": {},
      "number_sections": false,
      "sideBar": true,
      "skip_h1_title": false,
      "title_cell": "Table of Contents",
      "title_sidebar": "Contents",
      "toc_cell": false,
      "toc_position": {},
      "toc_section_display": true,
      "toc_window_display": true
    },
    "gpuClass": "standard"
  },
  "cells": [
    {
      "cell_type": "code",
      "source": [
        "from google.colab import drive\n",
        "drive.mount('/content/drive')"
      ],
      "metadata": {
        "colab": {
          "base_uri": "https://localhost:8080/"
        },
        "id": "had5nuJAR2SL",
        "outputId": "692f6bd8-3818-45d8-dc52-87318536b4c5"
      },
      "execution_count": null,
      "outputs": [
        {
          "output_type": "stream",
          "name": "stdout",
          "text": [
            "Mounted at /content/drive\n"
          ]
        }
      ]
    },
    {
      "cell_type": "code",
      "source": [
        "import warnings\n",
        "warnings.filterwarnings('ignore')"
      ],
      "metadata": {
        "id": "zF2cnbltUd27"
      },
      "execution_count": null,
      "outputs": []
    },
    {
      "cell_type": "code",
      "metadata": {
        "id": "i50f6ZExFHlu",
        "colab": {
          "base_uri": "https://localhost:8080/"
        },
        "outputId": "11032e47-4e38-4f81-8575-2422ef51be07"
      },
      "source": [
        "import tensorflow as tf\n",
        "from tensorflow import keras\n",
        "tf.random.set_seed(42)\n",
        "\n",
        "import numpy as np\n",
        "np.random.seed(42)\n",
        "\n",
        "import matplotlib.pyplot as plt\n",
        "%matplotlib inline\n",
        "\n",
        "import glob\n",
        "import PIL\n",
        "from PIL import Image"
      ],
      "execution_count": null,
      "outputs": [
        {
          "output_type": "stream",
          "name": "stdout",
          "text": [
            "2.9.2\n"
          ]
        }
      ]
    },
    {
      "cell_type": "code",
      "source": [
        "! unzip '/content/drive/MyDrive/Flower_dataset.zip' -d '/content/drive/MyDrive/FDP_AdiSankara23/Flower_dataset/'"
      ],
      "metadata": {
        "id": "iTl-66r3Lmdq"
      },
      "execution_count": null,
      "outputs": []
    },
    {
      "cell_type": "code",
      "metadata": {
        "id": "lfxIc_9xFzbF",
        "colab": {
          "base_uri": "https://localhost:8080/"
        },
        "outputId": "7da02f58-fd9a-43e0-f8c5-eba27715dbe7"
      },
      "source": [
        "imgFiles = glob.glob(\"/content/drive/MyDrive/FDP_AdiSankara23/Flower_dataset/tiny_FR/*/*.jpg\") #navigate through sub-folders, parses them and store in a list\n",
        "for items in imgFiles[:8]: #imgFiles is a list of strings, each string corresponds to the file path \n",
        "  print(items)"
      ],
      "execution_count": null,
      "outputs": [
        {
          "output_type": "stream",
          "name": "stdout",
          "text": [
            "/content/drive/MyDrive/FDP_AdiSankara23/Flower_dataset/tiny_FR/daisy/102841525_bd6628ae3c.jpg\n",
            "/content/drive/MyDrive/FDP_AdiSankara23/Flower_dataset/tiny_FR/daisy/100080576_f52e8ee070_n.jpg\n",
            "/content/drive/MyDrive/FDP_AdiSankara23/Flower_dataset/tiny_FR/daisy/1031799732_e7f4008c03.jpg\n",
            "/content/drive/MyDrive/FDP_AdiSankara23/Flower_dataset/tiny_FR/daisy/1150395827_6f94a5c6e4_n.jpg\n",
            "/content/drive/MyDrive/FDP_AdiSankara23/Flower_dataset/tiny_FR/daisy/11642632_1e7627a2cc.jpg\n",
            "/content/drive/MyDrive/FDP_AdiSankara23/Flower_dataset/tiny_FR/daisy/1140299375_3aa7024466.jpg\n",
            "/content/drive/MyDrive/FDP_AdiSankara23/Flower_dataset/tiny_FR/daisy/107592979_aaa9cdfe78_m.jpg\n",
            "/content/drive/MyDrive/FDP_AdiSankara23/Flower_dataset/tiny_FR/daisy/105806915_a9c13e2106_n.jpg\n"
          ]
        }
      ]
    },
    {
      "cell_type": "code",
      "metadata": {
        "id": "QyuoTY4-F7HU",
        "colab": {
          "base_uri": "https://localhost:8080/"
        },
        "outputId": "19d3d57f-1ca3-44d9-aa63-a956e21e2529"
      },
      "source": [
        "print(len(imgFiles))"
      ],
      "execution_count": null,
      "outputs": [
        {
          "output_type": "stream",
          "name": "stdout",
          "text": [
            "500\n"
          ]
        }
      ]
    },
    {
      "cell_type": "code",
      "metadata": {
        "id": "Dslrk1trGSTv"
      },
      "source": [
        "X = []\n",
        "y = []\n",
        "\n",
        "for fName in imgFiles:\n",
        "  \n",
        "  # Prepare the dataset and populate X and y\n",
        "  X_i = Image.open(fName) # /content/drive/MyDrive/FDP_AdiSankara23/Flower_dataset/tiny_FR/daisy/107592979_aaa9cdfe78_m.jpg\n",
        "  X_i = X_i.resize((299,299)) \n",
        "  X_i = np.array(X_i) / 255.0 # Normalize to range 0.0 to 1.0 \n",
        "\n",
        "  X.append(X_i)\n",
        "\n",
        "  label = fName.split(\"/\") # ['', 'content','drive', 'MyDrive', 'FDP_AdiSankara23','Flower_dataset','tiny_FR', 'daisy', '107592979_aaa9cdfe78_m.jpg']\n",
        "  y_i = label[7] # 'sunflower'\n",
        "\n",
        "  y.append(y_i)\n",
        "    \n",
        "\n",
        "#processed all  image files and corresponding intensity values and labels stored in X and y respectively \n",
        "#Note the labels are strings at this point \n",
        "    "
      ],
      "execution_count": null,
      "outputs": []
    },
    {
      "cell_type": "code",
      "metadata": {
        "id": "LNqM8JWbGmwh",
        "colab": {
          "base_uri": "https://localhost:8080/"
        },
        "outputId": "9248b29d-b404-48cf-c16f-5bff2b709d2b"
      },
      "source": [
        "print(set(y))"
      ],
      "execution_count": null,
      "outputs": [
        {
          "output_type": "stream",
          "name": "stdout",
          "text": [
            "{'rose', 'tulip', 'sunflower', 'dandelion', 'daisy'}\n"
          ]
        }
      ]
    },
    {
      "cell_type": "code",
      "metadata": {
        "id": "qcuefYVoIGD1",
        "colab": {
          "base_uri": "https://localhost:8080/"
        },
        "outputId": "f00eb97e-1dab-4eff-8388-7a235776289f"
      },
      "source": [
        "from sklearn.preprocessing import LabelEncoder\n",
        "lEncoder = LabelEncoder()\n",
        "y = lEncoder.fit_transform(y)\n",
        "\n",
        "print(set(y))\n",
        "print(lEncoder.classes_)"
      ],
      "execution_count": null,
      "outputs": [
        {
          "output_type": "stream",
          "name": "stdout",
          "text": [
            "{0, 1, 2, 3, 4}\n",
            "['daisy' 'dandelion' 'rose' 'sunflower' 'tulip']\n"
          ]
        }
      ]
    },
    {
      "cell_type": "code",
      "metadata": {
        "id": "yHv3_SLyIYMn",
        "colab": {
          "base_uri": "https://localhost:8080/"
        },
        "outputId": "e6a80be0-f247-411f-8a7f-5e2dda662b61"
      },
      "source": [
        "X = np.array(X)\n",
        "y = np.array(y)\n",
        "\n",
        "print(X.shape)\n",
        "print(y.shape)"
      ],
      "execution_count": null,
      "outputs": [
        {
          "output_type": "stream",
          "name": "stdout",
          "text": [
            "(500, 299, 299, 3)\n",
            "(500,)\n"
          ]
        }
      ]
    },
    {
      "cell_type": "markdown",
      "metadata": {
        "id": "rxGNlwpW3vOu"
      },
      "source": [
        "## Split data into training and testing"
      ]
    },
    {
      "cell_type": "code",
      "metadata": {
        "id": "m_z60X-xIhym",
        "colab": {
          "base_uri": "https://localhost:8080/"
        },
        "outputId": "ab7c1168-d406-4761-8e29-07d96a514541"
      },
      "source": [
        "# Write code to split the data into 80% training and 20% testing\n",
        "from sklearn.model_selection import train_test_split\n",
        "\n",
        "X_train, X_test, y_train, y_test = train_test_split(X, y, test_size=0.2, \n",
        "                                                    stratify=y, random_state=42)\n",
        "\n",
        "print(\"X_train_shape: {}\".format(X_train.shape))\n",
        "print(\"X_test_shape: {}\".format(X_test.shape))"
      ],
      "execution_count": null,
      "outputs": [
        {
          "output_type": "stream",
          "name": "stdout",
          "text": [
            "X_train_shape: (400, 299, 299, 3)\n",
            "X_test_shape: (100, 299, 299, 3)\n"
          ]
        }
      ]
    },
    {
      "cell_type": "code",
      "metadata": {
        "id": "ORAH8jJHI8S8"
      },
      "source": [
        "mu = X_train.mean()\n",
        "std = X_train.std()\n",
        "\n",
        "X_train_std = (X_train-mu)/std\n",
        "X_test_std = (X_test-mu)/std\n"
      ],
      "execution_count": null,
      "outputs": []
    },
    {
      "cell_type": "markdown",
      "metadata": {
        "id": "EHqYOiIM3vO1"
      },
      "source": [
        "## Construct the network"
      ]
    },
    {
      "cell_type": "code",
      "metadata": {
        "id": "zsZP4sElqgtv"
      },
      "source": [
        "# https://www.tensorflow.org/api_docs/python/tf/keras/preprocessing/image/ImageDataGenerator\n",
        "\n",
        "from tensorflow.keras.preprocessing.image import ImageDataGenerator\n",
        "\n",
        "datagen = ImageDataGenerator(\n",
        "    featurewise_center=True,\n",
        "    featurewise_std_normalization=True,\n",
        "    rotation_range=20,\n",
        "    width_shift_range=0.2,\n",
        "    height_shift_range=0.2,\n",
        "    horizontal_flip=True)\n",
        "\n",
        "\n"
      ],
      "execution_count": null,
      "outputs": []
    },
    {
      "cell_type": "code",
      "metadata": {
        "id": "MisCEtGsso5U"
      },
      "source": [
        "  #calculate any statistics required to  perform the transforms to your image data\n",
        "datagen.fit(X_train_std)"
      ],
      "execution_count": null,
      "outputs": []
    },
    {
      "cell_type": "code",
      "metadata": {
        "id": "LjLRgki6tSfB"
      },
      "source": [
        "input_ = keras.layers.Input(shape = X_train.shape[1:])\n",
        "\n",
        "x = keras.layers.Conv2D(filters=32, kernel_size=5, padding='same', activation='relu')(input_)\n",
        "x = keras.layers.MaxPool2D(pool_size=2)(x)\n",
        "x = keras.layers.Conv2D(filters=64, kernel_size=3, padding='same', activation='relu')(x)\n",
        "x = keras.layers.MaxPool2D(pool_size=2)(x)\n",
        "\n",
        "x = keras.layers.Flatten()(x)\n",
        "x = keras.layers.Dense(units=1000, activation='relu')(x)\n",
        "\n",
        "x = keras.layers.Dense(units=100, activation='relu')(x)\n",
        "\n",
        "\n",
        "output_ = keras.layers.Dense(units=5, activation='softmax')(x)\n",
        "\n",
        "model_CNN_augM = keras.models.Model(inputs=[input_], outputs=[output_])\n",
        "\n",
        "model_CNN_augM.compile(loss='sparse_categorical_crossentropy', \n",
        "                       optimizer='adam', \n",
        "                       metrics=['accuracy'])"
      ],
      "execution_count": null,
      "outputs": []
    },
    {
      "cell_type": "code",
      "source": [
        "# train the network\n",
        "H = model_CNN_augM.fit_generator(datagen.flow(X_train_std, y_train, batch_size=32),\n",
        "\tvalidation_data=(X_test_std, y_test), steps_per_epoch=len(X_train) // 32,\n",
        "\tepochs=25)"
      ],
      "metadata": {
        "id": "Oy65OyvyxNOs"
      },
      "execution_count": null,
      "outputs": []
    },
    {
      "cell_type": "code",
      "metadata": {
        "id": "ylHSYfaTtZiG"
      },
      "source": [
        "test_loss, test_accuracy = model_CNN_augM.evaluate(X_test_std, y_test)\n",
        "\n",
        "print(\"Test-loss: %f, Test-accuracy: %f\" % (test_loss, test_accuracy))"
      ],
      "execution_count": null,
      "outputs": []
    },
    {
      "cell_type": "markdown",
      "metadata": {
        "id": "FST_8TKys7xx"
      },
      "source": [
        "## Visualize the Sequential network\n"
      ]
    },
    {
      "cell_type": "code",
      "metadata": {
        "id": "bnF7FnTLuGvi"
      },
      "source": [
        "keras.utils.plot_model(model_CNN_augM, \"SequentialCNN.png\", show_shapes=True)"
      ],
      "execution_count": null,
      "outputs": []
    },
    {
      "cell_type": "markdown",
      "metadata": {
        "id": "hYxqqBqGsbNU"
      },
      "source": [
        "## Non-sequential Networks"
      ]
    },
    {
      "cell_type": "code",
      "metadata": {
        "id": "UaI-dkMXsftE"
      },
      "source": [
        "# A simple ResNet type model\n",
        "\n",
        "inputNS_ = keras.layers.Input(shape = (299,299,3))\n",
        "\n",
        "x = keras.layers.Conv2D(filters=32, kernel_size=3, padding='same', activation='relu')(inputNS_)\n",
        "x = keras.layers.Conv2D(filters=64, kernel_size=3, padding='same', activation='relu')(x)\n",
        "block_1_output = keras.layers.MaxPooling2D(2)(x)\n",
        "\n",
        "x = keras.layers.Conv2D(filters=64, kernel_size=3, padding='same', activation='relu')(block_1_output)\n",
        "x = keras.layers.Conv2D(filters=64, kernel_size=3, padding='same', activation='relu')(x)\n",
        "block_2_output = keras.layers.concatenate([x, block_1_output])\n",
        "\n",
        "x = keras.layers.Conv2D(filters=128, kernel_size=3, padding='same', activation='relu')(block_2_output)\n",
        "x = keras.layers.Conv2D(filters=128, kernel_size=3, padding='same', activation='relu')(x)\n",
        "block_3_output = keras.layers.concatenate([x, block_2_output])\n",
        "\n",
        "x = keras.layers.Conv2D(filters=128, kernel_size=3, padding='same', activation='relu')(block_3_output)\n",
        "x = keras.layers.Conv2D(filters=128, kernel_size=3, padding='same', activation='relu')(x)\n",
        "block_4_output = keras.layers.concatenate([x, block_3_output])\n",
        "\n",
        "x = keras.layers.Conv2D(filters=256, kernel_size=3, padding='same', activation='relu')(block_4_output)\n",
        "\n",
        "x = keras.layers.GlobalAveragePooling2D()(x)\n",
        "x = keras.layers.Dense(100, activation=\"relu\")(x) \n",
        "\n",
        "\n",
        "outputNS_ = keras.layers.Dense(units=5, activation='softmax')(x)\n",
        "\n",
        "model_CNN_NS = keras.models.Model(inputs=[inputNS_], outputs=[outputNS_])\n",
        "\n"
      ],
      "execution_count": null,
      "outputs": []
    },
    {
      "cell_type": "code",
      "source": [
        "model_CNN_NS.compile(loss='sparse_categorical_crossentropy', \n",
        "                       optimizer='adam', \n",
        "                       metrics=['accuracy'])"
      ],
      "metadata": {
        "id": "vSb5m-TP8nq7"
      },
      "execution_count": null,
      "outputs": []
    },
    {
      "cell_type": "markdown",
      "metadata": {
        "id": "-q2UN50lvDpt"
      },
      "source": [
        "## Visualize the Non-Sequential network\n"
      ]
    },
    {
      "cell_type": "code",
      "metadata": {
        "id": "1z1ToKcxuXaC",
        "colab": {
          "base_uri": "https://localhost:8080/",
          "height": 1000
        },
        "outputId": "ccb7717b-e780-4ff4-b6e7-0d45e405cbbd"
      },
      "source": [
        "keras.utils.plot_model(\n",
        "    model_CNN_NS, \n",
        "    \"NonSequential_CNN.png\", \n",
        "    show_shapes=False\n",
        "    )"
      ],
      "execution_count": null,
      "outputs": [
        {
          "output_type": "execute_result",
          "data": {
            "image/png": "[encoded data removed]",
            "text/plain": [
              "<IPython.core.display.Image object>"
            ]
          },
          "metadata": {},
          "execution_count": 14
        }
      ]
    },
    {
      "cell_type": "markdown",
      "metadata": {
        "id": "Totz_J6hvvbQ"
      },
      "source": [
        "## Training the network"
      ]
    },
    {
      "cell_type": "code",
      "source": [
        "# train the network\n",
        "H = model_CNN_NS.fit_generator(datagen.flow(X_train_std, y_train, batch_size=32),\n",
        "\tvalidation_data=(X_test_std, y_test), steps_per_epoch=len(X_train) // 32,   #// is floor division\n",
        "\tepochs=25)"
      ],
      "metadata": {
        "id": "ns0Ff7JPgfEd"
      },
      "execution_count": null,
      "outputs": []
    },
    {
      "cell_type": "code",
      "metadata": {
        "id": "QDHTgrXHvXRR"
      },
      "source": [
        "test_loss, test_accuracy = model_CNN_NS.evaluate(X_test_std, y_test)\n",
        "\n",
        "print(\"Test-loss: %f, Test-accuracy: %f\" % (test_loss, test_accuracy))"
      ],
      "execution_count": null,
      "outputs": []
    },
    {
      "cell_type": "code",
      "source": [],
      "metadata": {
        "id": "zrBnoAM5wjNR"
      },
      "execution_count": null,
      "outputs": []
    }
  ]
}