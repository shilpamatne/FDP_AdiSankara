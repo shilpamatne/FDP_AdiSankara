{
  "nbformat": 4,
  "nbformat_minor": 0,
  "metadata": {
    "colab": {
      "provenance": [],
      "machine_shape": "hm",
      "include_colab_link": true
    },
    "kernelspec": {
      "name": "python3",
      "display_name": "Python 3"
    },
    "language_info": {
      "name": "python"
    },
    "accelerator": "GPU",
    "gpuClass": "standard"
  },
  "cells": [
    {
      "cell_type": "markdown",
      "metadata": {
        "id": "view-in-github",
        "colab_type": "text"
      },
      "source": [
        "<a href=\"https://colab.research.google.com/github/shilpamatne/FDP_AdiSankara/blob/main/6_2_Finetuning.ipynb\" target=\"_parent\"><img src=\"https://colab.research.google.com/assets/colab-badge.svg\" alt=\"Open In Colab\"/></a>"
      ]
    },
    {
      "cell_type": "code",
      "source": [
        "from google.colab import drive\n",
        "drive.mount('/content/drive')"
      ],
      "metadata": {
        "colab": {
          "base_uri": "https://localhost:8080/"
        },
        "id": "Zof-9rOL-ql7",
        "outputId": "ff8216e5-5d31-4d56-969d-b861ec2644f9"
      },
      "execution_count": null,
      "outputs": [
        {
          "output_type": "stream",
          "name": "stdout",
          "text": [
            "Mounted at /content/drive\n"
          ]
        }
      ]
    },
    {
      "cell_type": "code",
      "execution_count": null,
      "metadata": {
        "colab": {
          "base_uri": "https://localhost:8080/"
        },
        "id": "JsYLfv0YuVPv",
        "outputId": "bad644e5-a648-4b4e-9e1c-f7ab5dfc2427"
      },
      "outputs": [
        {
          "output_type": "stream",
          "name": "stdout",
          "text": [
            "2.9.2\n"
          ]
        }
      ],
      "source": [
        "import tensorflow as tf\n",
        "print(tf.__version__)\n",
        "\n",
        "from tensorflow import keras\n",
        "tf.random.set_seed(42)\n",
        "\n",
        "import numpy as np\n",
        "np.random.seed(42)\n",
        "\n",
        "import matplotlib.pyplot as plt\n",
        "%matplotlib inline"
      ]
    },
    {
      "cell_type": "markdown",
      "source": [
        "#Load the dataset which is already processed"
      ],
      "metadata": {
        "id": "Hdi6sVd4uiaA"
      }
    },
    {
      "cell_type": "code",
      "source": [
        "# load numpy array from npy file\n",
        "from numpy import load\n",
        "\n",
        "X_train_std = load('/content/drive/MyDrive/Models/X_train_std.npy')\n",
        "X_test_std = load('/content/drive/MyDrive/Models/X_test_std.npy')\n",
        "\n",
        "y_train = load('/content/drive/MyDrive/Models/y_train.npy')\n",
        "y_test = load('/content/drive/MyDrive/Models/y_test.npy')"
      ],
      "metadata": {
        "id": "YDyrFa4HubnX"
      },
      "execution_count": null,
      "outputs": []
    },
    {
      "cell_type": "code",
      "source": [
        "print(\"X_train_std_shape: {}\".format(X_train_std.shape))\n",
        "print(\"X_test_std_shape: {}\".format(X_test_std.shape))"
      ],
      "metadata": {
        "colab": {
          "base_uri": "https://localhost:8080/"
        },
        "id": "-zREyC3wujts",
        "outputId": "014dfa89-bf07-4cec-9cd4-d137213be1ad"
      },
      "execution_count": null,
      "outputs": [
        {
          "output_type": "stream",
          "name": "stdout",
          "text": [
            "X_train_std_shape: (400, 299, 299, 3)\n",
            "X_test_std_shape: (100, 299, 299, 3)\n"
          ]
        }
      ]
    },
    {
      "cell_type": "code",
      "source": [
        "# Load the saved best model\n",
        "\n",
        "model_FineTune = keras.models.load_model('/content/drive/MyDrive/Models/01_Xception_TransferLearning_Best_Model.h5')"
      ],
      "metadata": {
        "id": "6KNKodIuu1Hi"
      },
      "execution_count": null,
      "outputs": []
    },
    {
      "cell_type": "code",
      "source": [
        "model_FineTune.summary()"
      ],
      "metadata": {
        "colab": {
          "base_uri": "https://localhost:8080/"
        },
        "id": "eyf4Llhou4gQ",
        "outputId": "7bcc3f97-21a4-4047-d1a6-c8717fad3647"
      },
      "execution_count": null,
      "outputs": [
        {
          "output_type": "stream",
          "name": "stdout",
          "text": [
            "Model: \"model\"\n",
            "__________________________________________________________________________________________________\n",
            " Layer (type)                   Output Shape         Param #     Connected to                     \n",
            "==================================================================================================\n",
            " input_4 (InputLayer)           [(None, None, None,  0           []                               \n",
            "                                 3)]                                                              \n",
            "                                                                                                  \n",
            " block1_conv1 (Conv2D)          (None, None, None,   864         ['input_4[0][0]']                \n",
            "                                32)                                                               \n",
            "                                                                                                  \n",
            " block1_conv1_bn (BatchNormaliz  (None, None, None,   128        ['block1_conv1[0][0]']           \n",
            " ation)                         32)                                                               \n",
            "                                                                                                  \n",
            " block1_conv1_act (Activation)  (None, None, None,   0           ['block1_conv1_bn[0][0]']        \n",
            "                                32)                                                               \n",
            "                                                                                                  \n",
            " block1_conv2 (Conv2D)          (None, None, None,   18432       ['block1_conv1_act[0][0]']       \n",
            "                                64)                                                               \n",
            "                                                                                                  \n",
            " block1_conv2_bn (BatchNormaliz  (None, None, None,   256        ['block1_conv2[0][0]']           \n",
            " ation)                         64)                                                               \n",
            "                                                                                                  \n",
            " block1_conv2_act (Activation)  (None, None, None,   0           ['block1_conv2_bn[0][0]']        \n",
            "                                64)                                                               \n",
            "                                                                                                  \n",
            " block2_sepconv1 (SeparableConv  (None, None, None,   8768       ['block1_conv2_act[0][0]']       \n",
            " 2D)                            128)                                                              \n",
            "                                                                                                  \n",
            " block2_sepconv1_bn (BatchNorma  (None, None, None,   512        ['block2_sepconv1[0][0]']        \n",
            " lization)                      128)                                                              \n",
            "                                                                                                  \n",
            " block2_sepconv2_act (Activatio  (None, None, None,   0          ['block2_sepconv1_bn[0][0]']     \n",
            " n)                             128)                                                              \n",
            "                                                                                                  \n",
            " block2_sepconv2 (SeparableConv  (None, None, None,   17536      ['block2_sepconv2_act[0][0]']    \n",
            " 2D)                            128)                                                              \n",
            "                                                                                                  \n",
            " block2_sepconv2_bn (BatchNorma  (None, None, None,   512        ['block2_sepconv2[0][0]']        \n",
            " lization)                      128)                                                              \n",
            "                                                                                                  \n",
            " conv2d_12 (Conv2D)             (None, None, None,   8192        ['block1_conv2_act[0][0]']       \n",
            "                                128)                                                              \n",
            "                                                                                                  \n",
            " block2_pool (MaxPooling2D)     (None, None, None,   0           ['block2_sepconv2_bn[0][0]']     \n",
            "                                128)                                                              \n",
            "                                                                                                  \n",
            " batch_normalization_12 (BatchN  (None, None, None,   512        ['conv2d_12[0][0]']              \n",
            " ormalization)                  128)                                                              \n",
            "                                                                                                  \n",
            " add_36 (Add)                   (None, None, None,   0           ['block2_pool[0][0]',            \n",
            "                                128)                              'batch_normalization_12[0][0]'] \n",
            "                                                                                                  \n",
            " block3_sepconv1_act (Activatio  (None, None, None,   0          ['add_36[0][0]']                 \n",
            " n)                             128)                                                              \n",
            "                                                                                                  \n",
            " block3_sepconv1 (SeparableConv  (None, None, None,   33920      ['block3_sepconv1_act[0][0]']    \n",
            " 2D)                            256)                                                              \n",
            "                                                                                                  \n",
            " block3_sepconv1_bn (BatchNorma  (None, None, None,   1024       ['block3_sepconv1[0][0]']        \n",
            " lization)                      256)                                                              \n",
            "                                                                                                  \n",
            " block3_sepconv2_act (Activatio  (None, None, None,   0          ['block3_sepconv1_bn[0][0]']     \n",
            " n)                             256)                                                              \n",
            "                                                                                                  \n",
            " block3_sepconv2 (SeparableConv  (None, None, None,   67840      ['block3_sepconv2_act[0][0]']    \n",
            " 2D)                            256)                                                              \n",
            "                                                                                                  \n",
            " block3_sepconv2_bn (BatchNorma  (None, None, None,   1024       ['block3_sepconv2[0][0]']        \n",
            " lization)                      256)                                                              \n",
            "                                                                                                  \n",
            " conv2d_13 (Conv2D)             (None, None, None,   32768       ['add_36[0][0]']                 \n",
            "                                256)                                                              \n",
            "                                                                                                  \n",
            " block3_pool (MaxPooling2D)     (None, None, None,   0           ['block3_sepconv2_bn[0][0]']     \n",
            "                                256)                                                              \n",
            "                                                                                                  \n",
            " batch_normalization_13 (BatchN  (None, None, None,   1024       ['conv2d_13[0][0]']              \n",
            " ormalization)                  256)                                                              \n",
            "                                                                                                  \n",
            " add_37 (Add)                   (None, None, None,   0           ['block3_pool[0][0]',            \n",
            "                                256)                              'batch_normalization_13[0][0]'] \n",
            "                                                                                                  \n",
            " block4_sepconv1_act (Activatio  (None, None, None,   0          ['add_37[0][0]']                 \n",
            " n)                             256)                                                              \n",
            "                                                                                                  \n",
            " block4_sepconv1 (SeparableConv  (None, None, None,   188672     ['block4_sepconv1_act[0][0]']    \n",
            " 2D)                            728)                                                              \n",
            "                                                                                                  \n",
            " block4_sepconv1_bn (BatchNorma  (None, None, None,   2912       ['block4_sepconv1[0][0]']        \n",
            " lization)                      728)                                                              \n",
            "                                                                                                  \n",
            " block4_sepconv2_act (Activatio  (None, None, None,   0          ['block4_sepconv1_bn[0][0]']     \n",
            " n)                             728)                                                              \n",
            "                                                                                                  \n",
            " block4_sepconv2 (SeparableConv  (None, None, None,   536536     ['block4_sepconv2_act[0][0]']    \n",
            " 2D)                            728)                                                              \n",
            "                                                                                                  \n",
            " block4_sepconv2_bn (BatchNorma  (None, None, None,   2912       ['block4_sepconv2[0][0]']        \n",
            " lization)                      728)                                                              \n",
            "                                                                                                  \n",
            " conv2d_14 (Conv2D)             (None, None, None,   186368      ['add_37[0][0]']                 \n",
            "                                728)                                                              \n",
            "                                                                                                  \n",
            " block4_pool (MaxPooling2D)     (None, None, None,   0           ['block4_sepconv2_bn[0][0]']     \n",
            "                                728)                                                              \n",
            "                                                                                                  \n",
            " batch_normalization_14 (BatchN  (None, None, None,   2912       ['conv2d_14[0][0]']              \n",
            " ormalization)                  728)                                                              \n",
            "                                                                                                  \n",
            " add_38 (Add)                   (None, None, None,   0           ['block4_pool[0][0]',            \n",
            "                                728)                              'batch_normalization_14[0][0]'] \n",
            "                                                                                                  \n",
            " block5_sepconv1_act (Activatio  (None, None, None,   0          ['add_38[0][0]']                 \n",
            " n)                             728)                                                              \n",
            "                                                                                                  \n",
            " block5_sepconv1 (SeparableConv  (None, None, None,   536536     ['block5_sepconv1_act[0][0]']    \n",
            " 2D)                            728)                                                              \n",
            "                                                                                                  \n",
            " block5_sepconv1_bn (BatchNorma  (None, None, None,   2912       ['block5_sepconv1[0][0]']        \n",
            " lization)                      728)                                                              \n",
            "                                                                                                  \n",
            " block5_sepconv2_act (Activatio  (None, None, None,   0          ['block5_sepconv1_bn[0][0]']     \n",
            " n)                             728)                                                              \n",
            "                                                                                                  \n",
            " block5_sepconv2 (SeparableConv  (None, None, None,   536536     ['block5_sepconv2_act[0][0]']    \n",
            " 2D)                            728)                                                              \n",
            "                                                                                                  \n",
            " block5_sepconv2_bn (BatchNorma  (None, None, None,   2912       ['block5_sepconv2[0][0]']        \n",
            " lization)                      728)                                                              \n",
            "                                                                                                  \n",
            " block5_sepconv3_act (Activatio  (None, None, None,   0          ['block5_sepconv2_bn[0][0]']     \n",
            " n)                             728)                                                              \n",
            "                                                                                                  \n",
            " block5_sepconv3 (SeparableConv  (None, None, None,   536536     ['block5_sepconv3_act[0][0]']    \n",
            " 2D)                            728)                                                              \n",
            "                                                                                                  \n",
            " block5_sepconv3_bn (BatchNorma  (None, None, None,   2912       ['block5_sepconv3[0][0]']        \n",
            " lization)                      728)                                                              \n",
            "                                                                                                  \n",
            " add_39 (Add)                   (None, None, None,   0           ['block5_sepconv3_bn[0][0]',     \n",
            "                                728)                              'add_38[0][0]']                 \n",
            "                                                                                                  \n",
            " block6_sepconv1_act (Activatio  (None, None, None,   0          ['add_39[0][0]']                 \n",
            " n)                             728)                                                              \n",
            "                                                                                                  \n",
            " block6_sepconv1 (SeparableConv  (None, None, None,   536536     ['block6_sepconv1_act[0][0]']    \n",
            " 2D)                            728)                                                              \n",
            "                                                                                                  \n",
            " block6_sepconv1_bn (BatchNorma  (None, None, None,   2912       ['block6_sepconv1[0][0]']        \n",
            " lization)                      728)                                                              \n",
            "                                                                                                  \n",
            " block6_sepconv2_act (Activatio  (None, None, None,   0          ['block6_sepconv1_bn[0][0]']     \n",
            " n)                             728)                                                              \n",
            "                                                                                                  \n",
            " block6_sepconv2 (SeparableConv  (None, None, None,   536536     ['block6_sepconv2_act[0][0]']    \n",
            " 2D)                            728)                                                              \n",
            "                                                                                                  \n",
            " block6_sepconv2_bn (BatchNorma  (None, None, None,   2912       ['block6_sepconv2[0][0]']        \n",
            " lization)                      728)                                                              \n",
            "                                                                                                  \n",
            " block6_sepconv3_act (Activatio  (None, None, None,   0          ['block6_sepconv2_bn[0][0]']     \n",
            " n)                             728)                                                              \n",
            "                                                                                                  \n",
            " block6_sepconv3 (SeparableConv  (None, None, None,   536536     ['block6_sepconv3_act[0][0]']    \n",
            " 2D)                            728)                                                              \n",
            "                                                                                                  \n",
            " block6_sepconv3_bn (BatchNorma  (None, None, None,   2912       ['block6_sepconv3[0][0]']        \n",
            " lization)                      728)                                                              \n",
            "                                                                                                  \n",
            " add_40 (Add)                   (None, None, None,   0           ['block6_sepconv3_bn[0][0]',     \n",
            "                                728)                              'add_39[0][0]']                 \n",
            "                                                                                                  \n",
            " block7_sepconv1_act (Activatio  (None, None, None,   0          ['add_40[0][0]']                 \n",
            " n)                             728)                                                              \n",
            "                                                                                                  \n",
            " block7_sepconv1 (SeparableConv  (None, None, None,   536536     ['block7_sepconv1_act[0][0]']    \n",
            " 2D)                            728)                                                              \n",
            "                                                                                                  \n",
            " block7_sepconv1_bn (BatchNorma  (None, None, None,   2912       ['block7_sepconv1[0][0]']        \n",
            " lization)                      728)                                                              \n",
            "                                                                                                  \n",
            " block7_sepconv2_act (Activatio  (None, None, None,   0          ['block7_sepconv1_bn[0][0]']     \n",
            " n)                             728)                                                              \n",
            "                                                                                                  \n",
            " block7_sepconv2 (SeparableConv  (None, None, None,   536536     ['block7_sepconv2_act[0][0]']    \n",
            " 2D)                            728)                                                              \n",
            "                                                                                                  \n",
            " block7_sepconv2_bn (BatchNorma  (None, None, None,   2912       ['block7_sepconv2[0][0]']        \n",
            " lization)                      728)                                                              \n",
            "                                                                                                  \n",
            " block7_sepconv3_act (Activatio  (None, None, None,   0          ['block7_sepconv2_bn[0][0]']     \n",
            " n)                             728)                                                              \n",
            "                                                                                                  \n",
            " block7_sepconv3 (SeparableConv  (None, None, None,   536536     ['block7_sepconv3_act[0][0]']    \n",
            " 2D)                            728)                                                              \n",
            "                                                                                                  \n",
            " block7_sepconv3_bn (BatchNorma  (None, None, None,   2912       ['block7_sepconv3[0][0]']        \n",
            " lization)                      728)                                                              \n",
            "                                                                                                  \n",
            " add_41 (Add)                   (None, None, None,   0           ['block7_sepconv3_bn[0][0]',     \n",
            "                                728)                              'add_40[0][0]']                 \n",
            "                                                                                                  \n",
            " block8_sepconv1_act (Activatio  (None, None, None,   0          ['add_41[0][0]']                 \n",
            " n)                             728)                                                              \n",
            "                                                                                                  \n",
            " block8_sepconv1 (SeparableConv  (None, None, None,   536536     ['block8_sepconv1_act[0][0]']    \n",
            " 2D)                            728)                                                              \n",
            "                                                                                                  \n",
            " block8_sepconv1_bn (BatchNorma  (None, None, None,   2912       ['block8_sepconv1[0][0]']        \n",
            " lization)                      728)                                                              \n",
            "                                                                                                  \n",
            " block8_sepconv2_act (Activatio  (None, None, None,   0          ['block8_sepconv1_bn[0][0]']     \n",
            " n)                             728)                                                              \n",
            "                                                                                                  \n",
            " block8_sepconv2 (SeparableConv  (None, None, None,   536536     ['block8_sepconv2_act[0][0]']    \n",
            " 2D)                            728)                                                              \n",
            "                                                                                                  \n",
            " block8_sepconv2_bn (BatchNorma  (None, None, None,   2912       ['block8_sepconv2[0][0]']        \n",
            " lization)                      728)                                                              \n",
            "                                                                                                  \n",
            " block8_sepconv3_act (Activatio  (None, None, None,   0          ['block8_sepconv2_bn[0][0]']     \n",
            " n)                             728)                                                              \n",
            "                                                                                                  \n",
            " block8_sepconv3 (SeparableConv  (None, None, None,   536536     ['block8_sepconv3_act[0][0]']    \n",
            " 2D)                            728)                                                              \n",
            "                                                                                                  \n",
            " block8_sepconv3_bn (BatchNorma  (None, None, None,   2912       ['block8_sepconv3[0][0]']        \n",
            " lization)                      728)                                                              \n",
            "                                                                                                  \n",
            " add_42 (Add)                   (None, None, None,   0           ['block8_sepconv3_bn[0][0]',     \n",
            "                                728)                              'add_41[0][0]']                 \n",
            "                                                                                                  \n",
            " block9_sepconv1_act (Activatio  (None, None, None,   0          ['add_42[0][0]']                 \n",
            " n)                             728)                                                              \n",
            "                                                                                                  \n",
            " block9_sepconv1 (SeparableConv  (None, None, None,   536536     ['block9_sepconv1_act[0][0]']    \n",
            " 2D)                            728)                                                              \n",
            "                                                                                                  \n",
            " block9_sepconv1_bn (BatchNorma  (None, None, None,   2912       ['block9_sepconv1[0][0]']        \n",
            " lization)                      728)                                                              \n",
            "                                                                                                  \n",
            " block9_sepconv2_act (Activatio  (None, None, None,   0          ['block9_sepconv1_bn[0][0]']     \n",
            " n)                             728)                                                              \n",
            "                                                                                                  \n",
            " block9_sepconv2 (SeparableConv  (None, None, None,   536536     ['block9_sepconv2_act[0][0]']    \n",
            " 2D)                            728)                                                              \n",
            "                                                                                                  \n",
            " block9_sepconv2_bn (BatchNorma  (None, None, None,   2912       ['block9_sepconv2[0][0]']        \n",
            " lization)                      728)                                                              \n",
            "                                                                                                  \n",
            " block9_sepconv3_act (Activatio  (None, None, None,   0          ['block9_sepconv2_bn[0][0]']     \n",
            " n)                             728)                                                              \n",
            "                                                                                                  \n",
            " block9_sepconv3 (SeparableConv  (None, None, None,   536536     ['block9_sepconv3_act[0][0]']    \n",
            " 2D)                            728)                                                              \n",
            "                                                                                                  \n",
            " block9_sepconv3_bn (BatchNorma  (None, None, None,   2912       ['block9_sepconv3[0][0]']        \n",
            " lization)                      728)                                                              \n",
            "                                                                                                  \n",
            " add_43 (Add)                   (None, None, None,   0           ['block9_sepconv3_bn[0][0]',     \n",
            "                                728)                              'add_42[0][0]']                 \n",
            "                                                                                                  \n",
            " block10_sepconv1_act (Activati  (None, None, None,   0          ['add_43[0][0]']                 \n",
            " on)                            728)                                                              \n",
            "                                                                                                  \n",
            " block10_sepconv1 (SeparableCon  (None, None, None,   536536     ['block10_sepconv1_act[0][0]']   \n",
            " v2D)                           728)                                                              \n",
            "                                                                                                  \n",
            " block10_sepconv1_bn (BatchNorm  (None, None, None,   2912       ['block10_sepconv1[0][0]']       \n",
            " alization)                     728)                                                              \n",
            "                                                                                                  \n",
            " block10_sepconv2_act (Activati  (None, None, None,   0          ['block10_sepconv1_bn[0][0]']    \n",
            " on)                            728)                                                              \n",
            "                                                                                                  \n",
            " block10_sepconv2 (SeparableCon  (None, None, None,   536536     ['block10_sepconv2_act[0][0]']   \n",
            " v2D)                           728)                                                              \n",
            "                                                                                                  \n",
            " block10_sepconv2_bn (BatchNorm  (None, None, None,   2912       ['block10_sepconv2[0][0]']       \n",
            " alization)                     728)                                                              \n",
            "                                                                                                  \n",
            " block10_sepconv3_act (Activati  (None, None, None,   0          ['block10_sepconv2_bn[0][0]']    \n",
            " on)                            728)                                                              \n",
            "                                                                                                  \n",
            " block10_sepconv3 (SeparableCon  (None, None, None,   536536     ['block10_sepconv3_act[0][0]']   \n",
            " v2D)                           728)                                                              \n",
            "                                                                                                  \n",
            " block10_sepconv3_bn (BatchNorm  (None, None, None,   2912       ['block10_sepconv3[0][0]']       \n",
            " alization)                     728)                                                              \n",
            "                                                                                                  \n",
            " add_44 (Add)                   (None, None, None,   0           ['block10_sepconv3_bn[0][0]',    \n",
            "                                728)                              'add_43[0][0]']                 \n",
            "                                                                                                  \n",
            " block11_sepconv1_act (Activati  (None, None, None,   0          ['add_44[0][0]']                 \n",
            " on)                            728)                                                              \n",
            "                                                                                                  \n",
            " block11_sepconv1 (SeparableCon  (None, None, None,   536536     ['block11_sepconv1_act[0][0]']   \n",
            " v2D)                           728)                                                              \n",
            "                                                                                                  \n",
            " block11_sepconv1_bn (BatchNorm  (None, None, None,   2912       ['block11_sepconv1[0][0]']       \n",
            " alization)                     728)                                                              \n",
            "                                                                                                  \n",
            " block11_sepconv2_act (Activati  (None, None, None,   0          ['block11_sepconv1_bn[0][0]']    \n",
            " on)                            728)                                                              \n",
            "                                                                                                  \n",
            " block11_sepconv2 (SeparableCon  (None, None, None,   536536     ['block11_sepconv2_act[0][0]']   \n",
            " v2D)                           728)                                                              \n",
            "                                                                                                  \n",
            " block11_sepconv2_bn (BatchNorm  (None, None, None,   2912       ['block11_sepconv2[0][0]']       \n",
            " alization)                     728)                                                              \n",
            "                                                                                                  \n",
            " block11_sepconv3_act (Activati  (None, None, None,   0          ['block11_sepconv2_bn[0][0]']    \n",
            " on)                            728)                                                              \n",
            "                                                                                                  \n",
            " block11_sepconv3 (SeparableCon  (None, None, None,   536536     ['block11_sepconv3_act[0][0]']   \n",
            " v2D)                           728)                                                              \n",
            "                                                                                                  \n",
            " block11_sepconv3_bn (BatchNorm  (None, None, None,   2912       ['block11_sepconv3[0][0]']       \n",
            " alization)                     728)                                                              \n",
            "                                                                                                  \n",
            " add_45 (Add)                   (None, None, None,   0           ['block11_sepconv3_bn[0][0]',    \n",
            "                                728)                              'add_44[0][0]']                 \n",
            "                                                                                                  \n",
            " block12_sepconv1_act (Activati  (None, None, None,   0          ['add_45[0][0]']                 \n",
            " on)                            728)                                                              \n",
            "                                                                                                  \n",
            " block12_sepconv1 (SeparableCon  (None, None, None,   536536     ['block12_sepconv1_act[0][0]']   \n",
            " v2D)                           728)                                                              \n",
            "                                                                                                  \n",
            " block12_sepconv1_bn (BatchNorm  (None, None, None,   2912       ['block12_sepconv1[0][0]']       \n",
            " alization)                     728)                                                              \n",
            "                                                                                                  \n",
            " block12_sepconv2_act (Activati  (None, None, None,   0          ['block12_sepconv1_bn[0][0]']    \n",
            " on)                            728)                                                              \n",
            "                                                                                                  \n",
            " block12_sepconv2 (SeparableCon  (None, None, None,   536536     ['block12_sepconv2_act[0][0]']   \n",
            " v2D)                           728)                                                              \n",
            "                                                                                                  \n",
            " block12_sepconv2_bn (BatchNorm  (None, None, None,   2912       ['block12_sepconv2[0][0]']       \n",
            " alization)                     728)                                                              \n",
            "                                                                                                  \n",
            " block12_sepconv3_act (Activati  (None, None, None,   0          ['block12_sepconv2_bn[0][0]']    \n",
            " on)                            728)                                                              \n",
            "                                                                                                  \n",
            " block12_sepconv3 (SeparableCon  (None, None, None,   536536     ['block12_sepconv3_act[0][0]']   \n",
            " v2D)                           728)                                                              \n",
            "                                                                                                  \n",
            " block12_sepconv3_bn (BatchNorm  (None, None, None,   2912       ['block12_sepconv3[0][0]']       \n",
            " alization)                     728)                                                              \n",
            "                                                                                                  \n",
            " add_46 (Add)                   (None, None, None,   0           ['block12_sepconv3_bn[0][0]',    \n",
            "                                728)                              'add_45[0][0]']                 \n",
            "                                                                                                  \n",
            " block13_sepconv1_act (Activati  (None, None, None,   0          ['add_46[0][0]']                 \n",
            " on)                            728)                                                              \n",
            "                                                                                                  \n",
            " block13_sepconv1 (SeparableCon  (None, None, None,   536536     ['block13_sepconv1_act[0][0]']   \n",
            " v2D)                           728)                                                              \n",
            "                                                                                                  \n",
            " block13_sepconv1_bn (BatchNorm  (None, None, None,   2912       ['block13_sepconv1[0][0]']       \n",
            " alization)                     728)                                                              \n",
            "                                                                                                  \n",
            " block13_sepconv2_act (Activati  (None, None, None,   0          ['block13_sepconv1_bn[0][0]']    \n",
            " on)                            728)                                                              \n",
            "                                                                                                  \n",
            " block13_sepconv2 (SeparableCon  (None, None, None,   752024     ['block13_sepconv2_act[0][0]']   \n",
            " v2D)                           1024)                                                             \n",
            "                                                                                                  \n",
            " block13_sepconv2_bn (BatchNorm  (None, None, None,   4096       ['block13_sepconv2[0][0]']       \n",
            " alization)                     1024)                                                             \n",
            "                                                                                                  \n",
            " conv2d_15 (Conv2D)             (None, None, None,   745472      ['add_46[0][0]']                 \n",
            "                                1024)                                                             \n",
            "                                                                                                  \n",
            " block13_pool (MaxPooling2D)    (None, None, None,   0           ['block13_sepconv2_bn[0][0]']    \n",
            "                                1024)                                                             \n",
            "                                                                                                  \n",
            " batch_normalization_15 (BatchN  (None, None, None,   4096       ['conv2d_15[0][0]']              \n",
            " ormalization)                  1024)                                                             \n",
            "                                                                                                  \n",
            " add_47 (Add)                   (None, None, None,   0           ['block13_pool[0][0]',           \n",
            "                                1024)                             'batch_normalization_15[0][0]'] \n",
            "                                                                                                  \n",
            " block14_sepconv1 (SeparableCon  (None, None, None,   1582080    ['add_47[0][0]']                 \n",
            " v2D)                           1536)                                                             \n",
            "                                                                                                  \n",
            " block14_sepconv1_bn (BatchNorm  (None, None, None,   6144       ['block14_sepconv1[0][0]']       \n",
            " alization)                     1536)                                                             \n",
            "                                                                                                  \n",
            " block14_sepconv1_act (Activati  (None, None, None,   0          ['block14_sepconv1_bn[0][0]']    \n",
            " on)                            1536)                                                             \n",
            "                                                                                                  \n",
            " block14_sepconv2 (SeparableCon  (None, None, None,   3159552    ['block14_sepconv1_act[0][0]']   \n",
            " v2D)                           2048)                                                             \n",
            "                                                                                                  \n",
            " block14_sepconv2_bn (BatchNorm  (None, None, None,   8192       ['block14_sepconv2[0][0]']       \n",
            " alization)                     2048)                                                             \n",
            "                                                                                                  \n",
            " block14_sepconv2_act (Activati  (None, None, None,   0          ['block14_sepconv2_bn[0][0]']    \n",
            " on)                            2048)                                                             \n",
            "                                                                                                  \n",
            " global_average_pooling2d (Glob  (None, 2048)        0           ['block14_sepconv2_act[0][0]']   \n",
            " alAveragePooling2D)                                                                              \n",
            "                                                                                                  \n",
            " dense (Dense)                  (None, 5)            10245       ['global_average_pooling2d[0][0]'\n",
            "                                                                 ]                                \n",
            "                                                                                                  \n",
            "==================================================================================================\n",
            "Total params: 20,871,725\n",
            "Trainable params: 20,817,197\n",
            "Non-trainable params: 54,528\n",
            "__________________________________________________________________________________________________\n"
          ]
        }
      ]
    },
    {
      "cell_type": "code",
      "source": [
        "model_FineTune.layers"
      ],
      "metadata": {
        "colab": {
          "base_uri": "https://localhost:8080/"
        },
        "id": "oE9nKkIV-8cA",
        "outputId": "46abe147-3395-438d-d214-afebcffe6c98"
      },
      "execution_count": null,
      "outputs": [
        {
          "output_type": "execute_result",
          "data": {
            "text/plain": [
              "[<keras.engine.input_layer.InputLayer at 0x7ff646a347f0>,\n",
              " <keras.layers.convolutional.conv2d.Conv2D at 0x7ff646a347c0>,\n",
              " <keras.layers.normalization.batch_normalization.BatchNormalization at 0x7ff646a34880>,\n",
              " <keras.layers.core.activation.Activation at 0x7ff5e23f1490>,\n",
              " <keras.layers.convolutional.conv2d.Conv2D at 0x7ff5e23f1a30>,\n",
              " <keras.layers.normalization.batch_normalization.BatchNormalization at 0x7ff5e1ab52e0>,\n",
              " <keras.layers.core.activation.Activation at 0x7ff5e1ab5160>,\n",
              " <keras.layers.convolutional.separable_conv2d.SeparableConv2D at 0x7ff5e1ab5c70>,\n",
              " <keras.layers.normalization.batch_normalization.BatchNormalization at 0x7ff5e1ab57f0>,\n",
              " <keras.layers.core.activation.Activation at 0x7ff5e1abb3a0>,\n",
              " <keras.layers.convolutional.separable_conv2d.SeparableConv2D at 0x7ff5e1abb9a0>,\n",
              " <keras.layers.normalization.batch_normalization.BatchNormalization at 0x7ff5e1abb520>,\n",
              " <keras.layers.convolutional.conv2d.Conv2D at 0x7ff5e1abe250>,\n",
              " <keras.layers.pooling.max_pooling2d.MaxPooling2D at 0x7ff5e1abe6a0>,\n",
              " <keras.layers.normalization.batch_normalization.BatchNormalization at 0x7ff5e1abed30>,\n",
              " <keras.layers.merging.add.Add at 0x7ff5e1abee20>,\n",
              " <keras.layers.core.activation.Activation at 0x7ff5e1ac32e0>,\n",
              " <keras.layers.convolutional.separable_conv2d.SeparableConv2D at 0x7ff5e1ac3340>,\n",
              " <keras.layers.normalization.batch_normalization.BatchNormalization at 0x7ff5e1ac3c40>,\n",
              " <keras.layers.core.activation.Activation at 0x7ff5e1ac3b80>,\n",
              " <keras.layers.convolutional.separable_conv2d.SeparableConv2D at 0x7ff5e1ac3d00>,\n",
              " <keras.layers.normalization.batch_normalization.BatchNormalization at 0x7ff5e1ac9970>,\n",
              " <keras.layers.convolutional.conv2d.Conv2D at 0x7ff5e1ac9a30>,\n",
              " <keras.layers.pooling.max_pooling2d.MaxPooling2D at 0x7ff5e1ac9130>,\n",
              " <keras.layers.normalization.batch_normalization.BatchNormalization at 0x7ff5e1ace550>,\n",
              " <keras.layers.merging.add.Add at 0x7ff5e1ace640>,\n",
              " <keras.layers.core.activation.Activation at 0x7ff5e1aceac0>,\n",
              " <keras.layers.convolutional.separable_conv2d.SeparableConv2D at 0x7ff5e1aceb20>,\n",
              " <keras.layers.normalization.batch_normalization.BatchNormalization at 0x7ff5e1acea30>,\n",
              " <keras.layers.core.activation.Activation at 0x7ff5e1ad23a0>,\n",
              " <keras.layers.convolutional.separable_conv2d.SeparableConv2D at 0x7ff5e1ad29a0>,\n",
              " <keras.layers.normalization.batch_normalization.BatchNormalization at 0x7ff5e1ad2520>,\n",
              " <keras.layers.convolutional.conv2d.Conv2D at 0x7ff5e1ad7250>,\n",
              " <keras.layers.pooling.max_pooling2d.MaxPooling2D at 0x7ff5e1ad76a0>,\n",
              " <keras.layers.normalization.batch_normalization.BatchNormalization at 0x7ff5e1ad7d30>,\n",
              " <keras.layers.merging.add.Add at 0x7ff5e1ad7e20>,\n",
              " <keras.layers.core.activation.Activation at 0x7ff5e1adb2e0>,\n",
              " <keras.layers.convolutional.separable_conv2d.SeparableConv2D at 0x7ff5e1adb340>,\n",
              " <keras.layers.normalization.batch_normalization.BatchNormalization at 0x7ff5e1adbc40>,\n",
              " <keras.layers.core.activation.Activation at 0x7ff5e1adbb80>,\n",
              " <keras.layers.convolutional.separable_conv2d.SeparableConv2D at 0x7ff5e1adbd00>,\n",
              " <keras.layers.normalization.batch_normalization.BatchNormalization at 0x7ff5e1a61970>,\n",
              " <keras.layers.core.activation.Activation at 0x7ff5e1a618b0>,\n",
              " <keras.layers.convolutional.separable_conv2d.SeparableConv2D at 0x7ff5e1a61eb0>,\n",
              " <keras.layers.normalization.batch_normalization.BatchNormalization at 0x7ff5e1a656a0>,\n",
              " <keras.layers.merging.add.Add at 0x7ff5e1a65760>,\n",
              " <keras.layers.core.activation.Activation at 0x7ff5e1a65be0>,\n",
              " <keras.layers.convolutional.separable_conv2d.SeparableConv2D at 0x7ff5e1a65c40>,\n",
              " <keras.layers.normalization.batch_normalization.BatchNormalization at 0x7ff5e1a69580>,\n",
              " <keras.layers.core.activation.Activation at 0x7ff5e1a694c0>,\n",
              " <keras.layers.convolutional.separable_conv2d.SeparableConv2D at 0x7ff5e1a69ac0>,\n",
              " <keras.layers.normalization.batch_normalization.BatchNormalization at 0x7ff5e1a69640>,\n",
              " <keras.layers.core.activation.Activation at 0x7ff5e1a701f0>,\n",
              " <keras.layers.convolutional.separable_conv2d.SeparableConv2D at 0x7ff5e1a707f0>,\n",
              " <keras.layers.normalization.batch_normalization.BatchNormalization at 0x7ff6457c12b0>,\n",
              " <keras.layers.merging.add.Add at 0x7ff5e1a70fa0>,\n",
              " <keras.layers.core.activation.Activation at 0x7ff5e1a75520>,\n",
              " <keras.layers.convolutional.separable_conv2d.SeparableConv2D at 0x7ff5e1a75580>,\n",
              " <keras.layers.normalization.batch_normalization.BatchNormalization at 0x7ff5e1a75e80>,\n",
              " <keras.layers.core.activation.Activation at 0x7ff5e1a75dc0>,\n",
              " <keras.layers.convolutional.separable_conv2d.SeparableConv2D at 0x7ff5e1a75f40>,\n",
              " <keras.layers.normalization.batch_normalization.BatchNormalization at 0x7ff5e1a79be0>,\n",
              " <keras.layers.core.activation.Activation at 0x7ff5e1a79b20>,\n",
              " <keras.layers.convolutional.separable_conv2d.SeparableConv2D at 0x7ff5e1a79ca0>,\n",
              " <keras.layers.normalization.batch_normalization.BatchNormalization at 0x7ff5e1a7e910>,\n",
              " <keras.layers.merging.add.Add at 0x7ff5e1a7e9d0>,\n",
              " <keras.layers.core.activation.Activation at 0x7ff5e1a7ee50>,\n",
              " <keras.layers.convolutional.separable_conv2d.SeparableConv2D at 0x7ff5e1a7eeb0>,\n",
              " <keras.layers.normalization.batch_normalization.BatchNormalization at 0x7ff5e1a847f0>,\n",
              " <keras.layers.core.activation.Activation at 0x7ff5e1a84730>,\n",
              " <keras.layers.convolutional.separable_conv2d.SeparableConv2D at 0x7ff5e1a84d30>,\n",
              " <keras.layers.normalization.batch_normalization.BatchNormalization at 0x7ff5e1a88520>,\n",
              " <keras.layers.core.activation.Activation at 0x7ff5e1a88460>,\n",
              " <keras.layers.convolutional.separable_conv2d.SeparableConv2D at 0x7ff5e1a88a60>,\n",
              " <keras.layers.normalization.batch_normalization.BatchNormalization at 0x7ff5e1a885e0>,\n",
              " <keras.layers.merging.add.Add at 0x7ff5e1a8e310>,\n",
              " <keras.layers.core.activation.Activation at 0x7ff5e1a8e790>,\n",
              " <keras.layers.convolutional.separable_conv2d.SeparableConv2D at 0x7ff5e1a8e7f0>,\n",
              " <keras.layers.normalization.batch_normalization.BatchNormalization at 0x7ff5e1a8e700>,\n",
              " <keras.layers.core.activation.Activation at 0x7ff5e1a94070>,\n",
              " <keras.layers.convolutional.separable_conv2d.SeparableConv2D at 0x7ff5e1a94670>,\n",
              " <keras.layers.normalization.batch_normalization.BatchNormalization at 0x7ff5e1a94e20>,\n",
              " <keras.layers.core.activation.Activation at 0x7ff5e1a94d60>,\n",
              " <keras.layers.convolutional.separable_conv2d.SeparableConv2D at 0x7ff5e1a94ee0>,\n",
              " <keras.layers.normalization.batch_normalization.BatchNormalization at 0x7ff5e1a98b50>,\n",
              " <keras.layers.merging.add.Add at 0x7ff5e1a98c10>,\n",
              " <keras.layers.core.activation.Activation at 0x7ff5e1a9d0d0>,\n",
              " <keras.layers.convolutional.separable_conv2d.SeparableConv2D at 0x7ff5e1a9d130>,\n",
              " <keras.layers.normalization.batch_normalization.BatchNormalization at 0x7ff5e1a9da30>,\n",
              " <keras.layers.core.activation.Activation at 0x7ff5e1a9d970>,\n",
              " <keras.layers.convolutional.separable_conv2d.SeparableConv2D at 0x7ff5e1a9df70>,\n",
              " <keras.layers.normalization.batch_normalization.BatchNormalization at 0x7ff5e1a21760>,\n",
              " <keras.layers.core.activation.Activation at 0x7ff5e1a216a0>,\n",
              " <keras.layers.convolutional.separable_conv2d.SeparableConv2D at 0x7ff5e1a21ca0>,\n",
              " <keras.layers.normalization.batch_normalization.BatchNormalization at 0x7ff5e1a28490>,\n",
              " <keras.layers.merging.add.Add at 0x7ff5e1a28550>,\n",
              " <keras.layers.core.activation.Activation at 0x7ff5e1a289d0>,\n",
              " <keras.layers.convolutional.separable_conv2d.SeparableConv2D at 0x7ff5e1a28a30>,\n",
              " <keras.layers.normalization.batch_normalization.BatchNormalization at 0x7ff5e1a28940>,\n",
              " <keras.layers.core.activation.Activation at 0x7ff5e1a2d2b0>,\n",
              " <keras.layers.convolutional.separable_conv2d.SeparableConv2D at 0x7ff5e1a2d8b0>,\n",
              " <keras.layers.normalization.batch_normalization.BatchNormalization at 0x7ff5e1a2d430>,\n",
              " <keras.layers.core.activation.Activation at 0x7ff5e1a30160>,\n",
              " <keras.layers.convolutional.separable_conv2d.SeparableConv2D at 0x7ff5e1a2dfa0>,\n",
              " <keras.layers.normalization.batch_normalization.BatchNormalization at 0x7ff5e1a30d90>,\n",
              " <keras.layers.merging.add.Add at 0x7ff5e1a30e50>,\n",
              " <keras.layers.core.activation.Activation at 0x7ff5e1a35310>,\n",
              " <keras.layers.convolutional.separable_conv2d.SeparableConv2D at 0x7ff5e1a35370>,\n",
              " <keras.layers.normalization.batch_normalization.BatchNormalization at 0x7ff5e1a35c70>,\n",
              " <keras.layers.core.activation.Activation at 0x7ff5e1a35bb0>,\n",
              " <keras.layers.convolutional.separable_conv2d.SeparableConv2D at 0x7ff5e1a35d30>,\n",
              " <keras.layers.normalization.batch_normalization.BatchNormalization at 0x7ff5e1a3a9a0>,\n",
              " <keras.layers.core.activation.Activation at 0x7ff5e1a3a8e0>,\n",
              " <keras.layers.convolutional.separable_conv2d.SeparableConv2D at 0x7ff5e1a3aee0>,\n",
              " <keras.layers.normalization.batch_normalization.BatchNormalization at 0x7ff5e1a40700>,\n",
              " <keras.layers.merging.add.Add at 0x7ff5e1a407c0>,\n",
              " <keras.layers.core.activation.Activation at 0x7ff5e1a40c40>,\n",
              " <keras.layers.convolutional.separable_conv2d.SeparableConv2D at 0x7ff5e1a40ca0>,\n",
              " <keras.layers.normalization.batch_normalization.BatchNormalization at 0x7ff5e1a445e0>,\n",
              " <keras.layers.core.activation.Activation at 0x7ff5e1a44520>,\n",
              " <keras.layers.convolutional.separable_conv2d.SeparableConv2D at 0x7ff5e1a44b20>,\n",
              " <keras.layers.normalization.batch_normalization.BatchNormalization at 0x7ff5e1a446a0>,\n",
              " <keras.layers.convolutional.conv2d.Conv2D at 0x7ff5e1a493d0>,\n",
              " <keras.layers.pooling.max_pooling2d.MaxPooling2D at 0x7ff5e1a49820>,\n",
              " <keras.layers.normalization.batch_normalization.BatchNormalization at 0x7ff5e1a49eb0>,\n",
              " <keras.layers.merging.add.Add at 0x7ff5e1a49fa0>,\n",
              " <keras.layers.convolutional.separable_conv2d.SeparableConv2D at 0x7ff5e1a4c3d0>,\n",
              " <keras.layers.normalization.batch_normalization.BatchNormalization at 0x7ff5e1a4cc10>,\n",
              " <keras.layers.core.activation.Activation at 0x7ff5e1a4cb50>,\n",
              " <keras.layers.convolutional.separable_conv2d.SeparableConv2D at 0x7ff5e1a4ccd0>,\n",
              " <keras.layers.normalization.batch_normalization.BatchNormalization at 0x7ff5e1a55940>,\n",
              " <keras.layers.core.activation.Activation at 0x7ff5e1a55880>,\n",
              " <keras.layers.pooling.global_average_pooling2d.GlobalAveragePooling2D at 0x7ff5e1a55df0>,\n",
              " <keras.layers.core.dense.Dense at 0x7ff5e1a55e80>]"
            ]
          },
          "metadata": {},
          "execution_count": 7
        }
      ]
    },
    {
      "cell_type": "code",
      "source": [
        "len(model_FineTune.layers)"
      ],
      "metadata": {
        "colab": {
          "base_uri": "https://localhost:8080/"
        },
        "id": "y4626IaH_eU3",
        "outputId": "1f7f637a-3a91-4c69-aec0-ad58009f26e1"
      },
      "execution_count": null,
      "outputs": [
        {
          "output_type": "execute_result",
          "data": {
            "text/plain": [
              "134"
            ]
          },
          "metadata": {},
          "execution_count": 9
        }
      ]
    },
    {
      "cell_type": "markdown",
      "metadata": {
        "id": "DHcuJyEDWXNe"
      },
      "source": [
        "## Freeze only first 60 layers\n",
        "- It is a `hyperparameter`"
      ]
    },
    {
      "cell_type": "code",
      "source": [
        "# Fine-tune the model from index 60 onwards\n",
        "\n",
        "for layer in model_FineTune.layers[:60]:\n",
        "  layer.trainable = False\n",
        "\n",
        "for layer in model_FineTune.layers[60:]:\n",
        "  layer.trainable = True\n"
      ],
      "metadata": {
        "id": "EEzqJAlxu8vm"
      },
      "execution_count": null,
      "outputs": []
    },
    {
      "cell_type": "markdown",
      "source": [
        "#Compile and train the model\n",
        "\n",
        "\n",
        "*  Save the best weights while training\n",
        "\n",
        "\n"
      ],
      "metadata": {
        "id": "LQP-f3nHvWnK"
      }
    },
    {
      "cell_type": "code",
      "source": [
        "model_FineTune.compile(loss='sparse_categorical_crossentropy', \n",
        "                 optimizer='adam', \n",
        "                 metrics=['accuracy'])\n",
        "\n",
        "callbacks_FineTune = [            \n",
        "             keras.callbacks.ModelCheckpoint(\"bestFT.h5\",\n",
        "                                             monitor='val_accuracy',\n",
        "                                             save_weights_only=True,\n",
        "                                             save_best_only=True)\n",
        "]\n",
        "\n",
        "history_FineTune = model_FineTune.fit(x = X_train_std, y = y_train, epochs=50,\n",
        "                                      validation_split=0.1, batch_size=16, callbacks=callbacks_FineTune)"
      ],
      "metadata": {
        "colab": {
          "base_uri": "https://localhost:8080/"
        },
        "id": "XKKmg1UJvP_n",
        "outputId": "ffc78d87-661a-433c-ea32-74ceb3f5ae1d"
      },
      "execution_count": null,
      "outputs": [
        {
          "output_type": "stream",
          "name": "stdout",
          "text": [
            "Epoch 1/50\n",
            "23/23 [==============================] - 19s 325ms/step - loss: 0.0132 - accuracy: 0.9972 - val_loss: 0.8603 - val_accuracy: 0.8750\n",
            "Epoch 2/50\n",
            "23/23 [==============================] - 6s 247ms/step - loss: 0.1165 - accuracy: 0.9861 - val_loss: 5.4978 - val_accuracy: 0.5000\n",
            "Epoch 3/50\n",
            "23/23 [==============================] - 6s 249ms/step - loss: 0.1226 - accuracy: 0.9778 - val_loss: 61.2117 - val_accuracy: 0.3000\n",
            "Epoch 4/50\n",
            "23/23 [==============================] - 6s 249ms/step - loss: 0.0326 - accuracy: 0.9917 - val_loss: 11.7589 - val_accuracy: 0.5500\n",
            "Epoch 5/50\n",
            "23/23 [==============================] - 6s 251ms/step - loss: 0.0146 - accuracy: 0.9944 - val_loss: 1.9161 - val_accuracy: 0.8250\n",
            "Epoch 6/50\n",
            "23/23 [==============================] - 6s 252ms/step - loss: 0.0645 - accuracy: 0.9861 - val_loss: 2.3425 - val_accuracy: 0.8250\n",
            "Epoch 7/50\n",
            "23/23 [==============================] - 6s 253ms/step - loss: 0.1576 - accuracy: 0.9556 - val_loss: 2.4130 - val_accuracy: 0.8000\n",
            "Epoch 8/50\n",
            "23/23 [==============================] - 6s 255ms/step - loss: 0.1910 - accuracy: 0.9556 - val_loss: 18.0812 - val_accuracy: 0.5000\n",
            "Epoch 9/50\n",
            "23/23 [==============================] - 6s 257ms/step - loss: 0.0695 - accuracy: 0.9750 - val_loss: 6.7925 - val_accuracy: 0.5750\n",
            "Epoch 10/50\n",
            "23/23 [==============================] - 6s 259ms/step - loss: 0.0612 - accuracy: 0.9889 - val_loss: 0.9599 - val_accuracy: 0.7750\n",
            "Epoch 11/50\n",
            "23/23 [==============================] - 6s 261ms/step - loss: 0.0586 - accuracy: 0.9694 - val_loss: 0.8149 - val_accuracy: 0.8250\n",
            "Epoch 12/50\n",
            "23/23 [==============================] - 6s 262ms/step - loss: 0.0745 - accuracy: 0.9833 - val_loss: 0.5988 - val_accuracy: 0.8750\n",
            "Epoch 13/50\n",
            "23/23 [==============================] - 6s 260ms/step - loss: 0.0458 - accuracy: 0.9806 - val_loss: 0.4130 - val_accuracy: 0.8500\n",
            "Epoch 14/50\n",
            "23/23 [==============================] - 6s 279ms/step - loss: 0.0152 - accuracy: 0.9944 - val_loss: 0.2132 - val_accuracy: 0.9000\n",
            "Epoch 15/50\n",
            "23/23 [==============================] - 6s 274ms/step - loss: 0.0074 - accuracy: 0.9972 - val_loss: 0.1681 - val_accuracy: 0.9500\n",
            "Epoch 16/50\n",
            "23/23 [==============================] - 6s 256ms/step - loss: 0.0084 - accuracy: 0.9972 - val_loss: 0.4439 - val_accuracy: 0.8750\n",
            "Epoch 17/50\n",
            "23/23 [==============================] - 6s 256ms/step - loss: 0.0187 - accuracy: 0.9917 - val_loss: 0.4707 - val_accuracy: 0.8250\n",
            "Epoch 18/50\n",
            "23/23 [==============================] - 6s 255ms/step - loss: 0.0349 - accuracy: 0.9889 - val_loss: 0.9176 - val_accuracy: 0.8250\n",
            "Epoch 19/50\n",
            "23/23 [==============================] - 6s 256ms/step - loss: 0.0460 - accuracy: 0.9889 - val_loss: 0.3062 - val_accuracy: 0.8750\n",
            "Epoch 20/50\n",
            "23/23 [==============================] - 6s 257ms/step - loss: 0.0695 - accuracy: 0.9833 - val_loss: 3.4517 - val_accuracy: 0.7500\n",
            "Epoch 21/50\n",
            "23/23 [==============================] - 6s 259ms/step - loss: 0.0918 - accuracy: 0.9778 - val_loss: 15.9740 - val_accuracy: 0.6500\n",
            "Epoch 22/50\n",
            "23/23 [==============================] - 6s 257ms/step - loss: 0.0531 - accuracy: 0.9944 - val_loss: 1.4679 - val_accuracy: 0.8500\n",
            "Epoch 23/50\n",
            "23/23 [==============================] - 6s 258ms/step - loss: 0.0066 - accuracy: 1.0000 - val_loss: 0.9669 - val_accuracy: 0.8250\n",
            "Epoch 24/50\n",
            "23/23 [==============================] - 6s 259ms/step - loss: 0.0291 - accuracy: 0.9944 - val_loss: 1.3023 - val_accuracy: 0.8000\n",
            "Epoch 25/50\n",
            "23/23 [==============================] - 6s 258ms/step - loss: 0.0579 - accuracy: 0.9861 - val_loss: 1.6619 - val_accuracy: 0.7750\n",
            "Epoch 26/50\n",
            "23/23 [==============================] - 6s 258ms/step - loss: 0.0293 - accuracy: 0.9944 - val_loss: 0.6315 - val_accuracy: 0.8500\n",
            "Epoch 27/50\n",
            "23/23 [==============================] - 6s 259ms/step - loss: 0.0183 - accuracy: 0.9944 - val_loss: 0.7607 - val_accuracy: 0.8750\n",
            "Epoch 28/50\n",
            "23/23 [==============================] - 6s 258ms/step - loss: 0.0163 - accuracy: 0.9944 - val_loss: 1.1295 - val_accuracy: 0.8750\n",
            "Epoch 29/50\n",
            "23/23 [==============================] - 6s 258ms/step - loss: 0.0197 - accuracy: 0.9917 - val_loss: 0.8984 - val_accuracy: 0.8000\n",
            "Epoch 30/50\n",
            "23/23 [==============================] - 6s 258ms/step - loss: 0.0210 - accuracy: 0.9944 - val_loss: 0.4204 - val_accuracy: 0.9000\n",
            "Epoch 31/50\n",
            "23/23 [==============================] - 6s 258ms/step - loss: 0.0265 - accuracy: 0.9944 - val_loss: 0.5920 - val_accuracy: 0.8750\n",
            "Epoch 32/50\n",
            "23/23 [==============================] - 6s 258ms/step - loss: 0.0152 - accuracy: 0.9944 - val_loss: 0.6577 - val_accuracy: 0.8500\n",
            "Epoch 33/50\n",
            "23/23 [==============================] - 6s 258ms/step - loss: 0.0042 - accuracy: 1.0000 - val_loss: 0.4380 - val_accuracy: 0.9250\n",
            "Epoch 34/50\n",
            "23/23 [==============================] - 6s 257ms/step - loss: 0.0011 - accuracy: 1.0000 - val_loss: 0.4316 - val_accuracy: 0.9000\n",
            "Epoch 35/50\n",
            "23/23 [==============================] - 6s 258ms/step - loss: 0.0033 - accuracy: 1.0000 - val_loss: 0.4392 - val_accuracy: 0.9000\n",
            "Epoch 36/50\n",
            "23/23 [==============================] - 6s 258ms/step - loss: 0.0126 - accuracy: 0.9972 - val_loss: 0.5551 - val_accuracy: 0.8500\n",
            "Epoch 37/50\n",
            "23/23 [==============================] - 6s 258ms/step - loss: 0.0040 - accuracy: 1.0000 - val_loss: 0.4054 - val_accuracy: 0.8500\n",
            "Epoch 38/50\n",
            "23/23 [==============================] - 6s 259ms/step - loss: 0.0015 - accuracy: 1.0000 - val_loss: 0.3433 - val_accuracy: 0.8750\n",
            "Epoch 39/50\n",
            "23/23 [==============================] - 6s 258ms/step - loss: 0.0013 - accuracy: 1.0000 - val_loss: 0.3300 - val_accuracy: 0.9250\n",
            "Epoch 40/50\n",
            "23/23 [==============================] - 6s 259ms/step - loss: 0.0012 - accuracy: 1.0000 - val_loss: 0.3514 - val_accuracy: 0.9000\n",
            "Epoch 41/50\n",
            "23/23 [==============================] - 6s 258ms/step - loss: 8.6581e-04 - accuracy: 1.0000 - val_loss: 0.3530 - val_accuracy: 0.9000\n",
            "Epoch 42/50\n",
            "23/23 [==============================] - 6s 258ms/step - loss: 0.0023 - accuracy: 0.9972 - val_loss: 0.3612 - val_accuracy: 0.9250\n",
            "Epoch 43/50\n",
            "23/23 [==============================] - 6s 258ms/step - loss: 5.7376e-04 - accuracy: 1.0000 - val_loss: 0.4069 - val_accuracy: 0.9250\n",
            "Epoch 44/50\n",
            "23/23 [==============================] - 6s 259ms/step - loss: 7.8138e-04 - accuracy: 1.0000 - val_loss: 0.3893 - val_accuracy: 0.9500\n",
            "Epoch 45/50\n",
            "23/23 [==============================] - 6s 258ms/step - loss: 7.2995e-04 - accuracy: 1.0000 - val_loss: 0.3754 - val_accuracy: 0.9500\n",
            "Epoch 46/50\n",
            "23/23 [==============================] - 6s 258ms/step - loss: 4.4448e-04 - accuracy: 1.0000 - val_loss: 0.3655 - val_accuracy: 0.9500\n",
            "Epoch 47/50\n",
            "23/23 [==============================] - 6s 258ms/step - loss: 0.0062 - accuracy: 0.9972 - val_loss: 0.3783 - val_accuracy: 0.9250\n",
            "Epoch 48/50\n",
            "23/23 [==============================] - 6s 258ms/step - loss: 0.0203 - accuracy: 0.9972 - val_loss: 0.4291 - val_accuracy: 0.9000\n",
            "Epoch 49/50\n",
            "23/23 [==============================] - 6s 258ms/step - loss: 0.0041 - accuracy: 1.0000 - val_loss: 0.5663 - val_accuracy: 0.9250\n",
            "Epoch 50/50\n",
            "23/23 [==============================] - 6s 258ms/step - loss: 4.6714e-04 - accuracy: 1.0000 - val_loss: 0.3827 - val_accuracy: 0.9250\n"
          ]
        }
      ]
    },
    {
      "cell_type": "markdown",
      "source": [
        "# Plot accuracy"
      ],
      "metadata": {
        "id": "pAw314Djvng8"
      }
    },
    {
      "cell_type": "code",
      "source": [
        "keys = ['accuracy', 'val_accuracy']\n",
        "progress = {k:v for k,v in history_FineTune.history.items() if k in keys}\n",
        "\n",
        "import pandas as pd\n",
        "pd.DataFrame(progress).plot()\n",
        "\n",
        "plt.xlabel(\"epochs\")\n",
        "plt.ylabel(\"accuracy\")\n",
        "\n",
        "plt.grid(True)\n",
        "plt.show()"
      ],
      "metadata": {
        "colab": {
          "base_uri": "https://localhost:8080/",
          "height": 279
        },
        "id": "Zt_tbGJCvTtY",
        "outputId": "ca3b4b41-fcd5-4614-ee1a-e9ef860c5c97"
      },
      "execution_count": null,
      "outputs": [
        {
          "output_type": "display_data",
          "data": {
            "text/plain": [
              "<Figure size 432x288 with 1 Axes>"
            ],
            "image/png": "[encoded data removed]"
          },
          "metadata": {
            "needs_background": "light"
          }
        }
      ]
    },
    {
      "cell_type": "markdown",
      "source": [
        "## Evaluate the fine-tuned model\n",
        "- Trained for 50-epochs"
      ],
      "metadata": {
        "id": "PKl5hPdwvvVd"
      }
    },
    {
      "cell_type": "code",
      "source": [
        "testLoss_FineTune, testAccuracy_FineTune = model_FineTune.evaluate(x = X_test_std, y = y_test)\n",
        "print(\"Test-loss: %f, Test-accuracy: %f\" % (testLoss_FineTune, testAccuracy_FineTune))"
      ],
      "metadata": {
        "colab": {
          "base_uri": "https://localhost:8080/"
        },
        "id": "YB3Qad3Svriw",
        "outputId": "b6017b38-de56-4a81-be0e-4cc42e721d7e"
      },
      "execution_count": null,
      "outputs": [
        {
          "output_type": "stream",
          "name": "stdout",
          "text": [
            "4/4 [==============================] - 2s 294ms/step - loss: 0.2485 - accuracy: 0.9000\n",
            "Test-loss: 0.248531, Test-accuracy: 0.900000\n"
          ]
        }
      ]
    },
    {
      "cell_type": "markdown",
      "source": [
        "## Update the model with best weights and evaluate\n",
        "- Saved based on the callback"
      ],
      "metadata": {
        "id": "kX5C6ktRv4nh"
      }
    },
    {
      "cell_type": "code",
      "source": [
        "model_FineTune.load_weights(\"bestFT.h5\")\n",
        "\n",
        "testLoss_FineTune, testAccuracy_FineTune = model_FineTune.evaluate(x = X_test_std, y = y_test)\n",
        "\n",
        "print(\"Test-loss: %f, Test-accuracy: %f\" % (testLoss_FineTune, testAccuracy_FineTune))"
      ],
      "metadata": {
        "colab": {
          "base_uri": "https://localhost:8080/"
        },
        "id": "pIPWjQDdv0Pz",
        "outputId": "a93b938d-9c39-4554-c266-35a78f7cd5a5"
      },
      "execution_count": null,
      "outputs": [
        {
          "output_type": "stream",
          "name": "stdout",
          "text": [
            "4/4 [==============================] - 1s 173ms/step - loss: 0.2972 - accuracy: 0.9400\n",
            "Test-loss: 0.297182, Test-accuracy: 0.940000\n"
          ]
        }
      ]
    },
    {
      "cell_type": "markdown",
      "source": [
        "#Get the prediction of a single sample"
      ],
      "metadata": {
        "id": "vymD_20ZwA1j"
      }
    },
    {
      "cell_type": "code",
      "source": [
        "cProba = model_FineTune.predict(X_test_std[:1])\n",
        "\n",
        "print(cProba)"
      ],
      "metadata": {
        "colab": {
          "base_uri": "https://localhost:8080/"
        },
        "id": "_pwOtksTv76A",
        "outputId": "8518aede-dc95-4fb1-db47-84ce0386398b"
      },
      "execution_count": null,
      "outputs": [
        {
          "output_type": "stream",
          "name": "stdout",
          "text": [
            "1/1 [==============================] - 1s 866ms/step\n",
            "[[1.9925926e-10 8.9432788e-16 1.0000000e+00 3.2029724e-12 3.8123525e-13]]\n"
          ]
        }
      ]
    },
    {
      "cell_type": "code",
      "source": [
        "cLabel = np.argmax(cProba, axis=-1) \n",
        "\n",
        "print(cLabel)"
      ],
      "metadata": {
        "colab": {
          "base_uri": "https://localhost:8080/"
        },
        "id": "R0gdzlmdwDwP",
        "outputId": "883ad6c9-bba0-4dc5-bd4f-4c45b2d7b5b1"
      },
      "execution_count": null,
      "outputs": [
        {
          "output_type": "stream",
          "name": "stdout",
          "text": [
            "[2]\n"
          ]
        }
      ]
    },
    {
      "cell_type": "code",
      "source": [
        "print(y_test[:1])"
      ],
      "metadata": {
        "colab": {
          "base_uri": "https://localhost:8080/"
        },
        "id": "4h3GKIsqwIa7",
        "outputId": "e3caec37-a554-40c3-86d4-5ff6f53a0e90"
      },
      "execution_count": null,
      "outputs": [
        {
          "output_type": "stream",
          "name": "stdout",
          "text": [
            "[2]\n"
          ]
        }
      ]
    },
    {
      "cell_type": "markdown",
      "source": [
        "#Save the final Fine-Tuned model"
      ],
      "metadata": {
        "id": "SUpUnGfBwKuK"
      }
    },
    {
      "cell_type": "code",
      "source": [
        "# Saves the best model obtained\n",
        "model_FineTune.save('/content/drive/MyDrive/Models/02_Xception_FineTuned_Best_Model.h5')"
      ],
      "metadata": {
        "id": "NUxMGE-_wMCc"
      },
      "execution_count": null,
      "outputs": []
    }
  ]
}